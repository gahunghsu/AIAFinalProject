{
 "cells": [
  {
   "cell_type": "code",
   "execution_count": 6,
   "metadata": {},
   "outputs": [],
   "source": [
    "from datasets import list_datasets, load_dataset"
   ]
  },
  {
   "cell_type": "code",
   "execution_count": 2,
   "metadata": {},
   "outputs": [
    {
     "name": "stderr",
     "output_type": "stream",
     "text": [
      "Downloading builder script: 100%|██████████| 6.57k/6.57k [00:00<00:00, 2.38MB/s]\n",
      "Downloading metadata: 100%|██████████| 2.76k/2.76k [00:00<00:00, 627kB/s]\n",
      "Downloading readme: 100%|██████████| 7.80k/7.80k [00:00<00:00, 3.68MB/s]\n"
     ]
    },
    {
     "name": "stdout",
     "output_type": "stream",
     "text": [
      "Downloading and preparing dataset wikisql/default to C:/Users/gaga.hsu/.cache/huggingface/datasets/wikisql/default/0.1.0/7037bfe6a42b1ca2b6ac3ccacba5253b1825d31379e9cc626fc79a620977252d...\n"
     ]
    },
    {
     "name": "stderr",
     "output_type": "stream",
     "text": [
      "Downloading data: 100%|██████████| 26.2M/26.2M [00:04<00:00, 5.54MB/s]\n",
      "                                                                                         \r"
     ]
    },
    {
     "name": "stdout",
     "output_type": "stream",
     "text": [
      "Dataset wikisql downloaded and prepared to C:/Users/gaga.hsu/.cache/huggingface/datasets/wikisql/default/0.1.0/7037bfe6a42b1ca2b6ac3ccacba5253b1825d31379e9cc626fc79a620977252d. Subsequent calls will reuse this data.\n"
     ]
    },
    {
     "name": "stderr",
     "output_type": "stream",
     "text": [
      "100%|██████████| 3/3 [00:00<00:00, 167.84it/s]\n"
     ]
    }
   ],
   "source": [
    "wikisql_dataset  = load_dataset('wikisql')"
   ]
  },
  {
   "cell_type": "code",
   "execution_count": 3,
   "metadata": {},
   "outputs": [
    {
     "data": {
      "text/plain": [
       "{'phase': 1,\n",
       " 'question': 'Tell me what the notes are for South Australia ',\n",
       " 'table': {'header': ['State/territory',\n",
       "   'Text/background colour',\n",
       "   'Format',\n",
       "   'Current slogan',\n",
       "   'Current series',\n",
       "   'Notes'],\n",
       "  'page_title': '',\n",
       "  'page_id': '',\n",
       "  'types': ['text', 'text', 'text', 'text', 'text', 'text'],\n",
       "  'id': '1-1000181-1',\n",
       "  'section_title': '',\n",
       "  'caption': '',\n",
       "  'rows': [['Australian Capital Territory',\n",
       "    'blue/white',\n",
       "    'Yaa·nna',\n",
       "    'ACT · CELEBRATION OF A CENTURY 2013',\n",
       "    'YIL·00A',\n",
       "    'Slogan screenprinted on plate'],\n",
       "   ['New South Wales',\n",
       "    'black/yellow',\n",
       "    'aa·nn·aa',\n",
       "    'NEW SOUTH WALES',\n",
       "    'BX·99·HI',\n",
       "    'No slogan on current series'],\n",
       "   ['New South Wales',\n",
       "    'black/white',\n",
       "    'aaa·nna',\n",
       "    'NSW',\n",
       "    'CPX·12A',\n",
       "    'Optional white slimline series'],\n",
       "   ['Northern Territory',\n",
       "    'ochre/white',\n",
       "    'Ca·nn·aa',\n",
       "    'NT · OUTBACK AUSTRALIA',\n",
       "    'CB·06·ZZ',\n",
       "    'New series began in June 2011'],\n",
       "   ['Queensland',\n",
       "    'maroon/white',\n",
       "    'nnn·aaa',\n",
       "    'QUEENSLAND · SUNSHINE STATE',\n",
       "    '999·TLG',\n",
       "    'Slogan embossed on plate'],\n",
       "   ['South Australia',\n",
       "    'black/white',\n",
       "    'Snnn·aaa',\n",
       "    'SOUTH AUSTRALIA',\n",
       "    'S000·AZD',\n",
       "    'No slogan on current series'],\n",
       "   ['Victoria',\n",
       "    'blue/white',\n",
       "    'aaa·nnn',\n",
       "    'VICTORIA - THE PLACE TO BE',\n",
       "    'ZZZ·562',\n",
       "    'Current series will be exhausted this year']],\n",
       "  'name': 'table_1000181_1'},\n",
       " 'sql': {'human_readable': 'SELECT Notes FROM table WHERE Current slogan = SOUTH AUSTRALIA',\n",
       "  'sel': 5,\n",
       "  'agg': 0,\n",
       "  'conds': {'column_index': [3],\n",
       "   'operator_index': [0],\n",
       "   'condition': ['SOUTH AUSTRALIA']}}}"
      ]
     },
     "execution_count": 3,
     "metadata": {},
     "output_type": "execute_result"
    }
   ],
   "source": [
    "wikisql_dataset['train'][0]"
   ]
  },
  {
   "cell_type": "code",
   "execution_count": 8,
   "metadata": {},
   "outputs": [
    {
     "data": {
      "text/plain": [
       "DatasetDict({\n",
       "    test: Dataset({\n",
       "        features: ['phase', 'question', 'table', 'sql'],\n",
       "        num_rows: 15878\n",
       "    })\n",
       "    validation: Dataset({\n",
       "        features: ['phase', 'question', 'table', 'sql'],\n",
       "        num_rows: 8421\n",
       "    })\n",
       "    train: Dataset({\n",
       "        features: ['phase', 'question', 'table', 'sql'],\n",
       "        num_rows: 56355\n",
       "    })\n",
       "})"
      ]
     },
     "execution_count": 8,
     "metadata": {},
     "output_type": "execute_result"
    }
   ],
   "source": [
    "wikisql_dataset"
   ]
  },
  {
   "cell_type": "code",
   "execution_count": null,
   "metadata": {},
   "outputs": [],
   "source": []
  }
 ],
 "metadata": {
  "kernelspec": {
   "display_name": "Python 3.9.16 ('AIAProject')",
   "language": "python",
   "name": "python3"
  },
  "language_info": {
   "codemirror_mode": {
    "name": "ipython",
    "version": 3
   },
   "file_extension": ".py",
   "mimetype": "text/x-python",
   "name": "python",
   "nbconvert_exporter": "python",
   "pygments_lexer": "ipython3",
   "version": "3.9.16"
  },
  "orig_nbformat": 4,
  "vscode": {
   "interpreter": {
    "hash": "2a4e41715c11c88250741af084875a71e5600dd0a345abac243bdfa51ef7b89c"
   }
  }
 },
 "nbformat": 4,
 "nbformat_minor": 2
}
